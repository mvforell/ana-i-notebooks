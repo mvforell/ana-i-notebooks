{
 "cells": [
  {
   "cell_type": "code",
   "execution_count": 3,
   "metadata": {},
   "outputs": [
    {
     "data": {
      "text/html": [
       "<table><tr><td>1/2</td><td>1/2</td><td>0</td><td>0</td><td>0</td><td>0</td><td>0</td><td>0</td><td>0</td><td>0</td><td>0</td><td>0</td><td>0</td><td>0</td><td>0</td><td>0</td></tr><tr><td>1/6</td><td>1/2</td><td>1/3</td><td>0</td><td>0</td><td>0</td><td>0</td><td>0</td><td>0</td><td>0</td><td>0</td><td>0</td><td>0</td><td>0</td><td>0</td><td>0</td></tr><tr><td>0</td><td>1/4</td><td>1/2</td><td>1/4</td><td>0</td><td>0</td><td>0</td><td>0</td><td>0</td><td>0</td><td>0</td><td>0</td><td>0</td><td>0</td><td>0</td><td>0</td></tr><tr><td>-1/30</td><td>0</td><td>1/3</td><td>1/2</td><td>1/5</td><td>0</td><td>0</td><td>0</td><td>0</td><td>0</td><td>0</td><td>0</td><td>0</td><td>0</td><td>0</td><td>0</td></tr><tr><td>0</td><td>-1/12</td><td>0</td><td>5/12</td><td>1/2</td><td>1/6</td><td>0</td><td>0</td><td>0</td><td>0</td><td>0</td><td>0</td><td>0</td><td>0</td><td>0</td><td>0</td></tr><tr><td>1/42</td><td>0</td><td>-1/6</td><td>0</td><td>1/2</td><td>1/2</td><td>1/7</td><td>0</td><td>0</td><td>0</td><td>0</td><td>0</td><td>0</td><td>0</td><td>0</td><td>0</td></tr><tr><td>0</td><td>1/12</td><td>0</td><td>-7/24</td><td>0</td><td>7/12</td><td>1/2</td><td>1/8</td><td>0</td><td>0</td><td>0</td><td>0</td><td>0</td><td>0</td><td>0</td><td>0</td></tr><tr><td>-1/30</td><td>0</td><td>2/9</td><td>0</td><td>-7/15</td><td>0</td><td>2/3</td><td>1/2</td><td>1/9</td><td>0</td><td>0</td><td>0</td><td>0</td><td>0</td><td>0</td><td>0</td></tr><tr><td>0</td><td>-3/20</td><td>0</td><td>1/2</td><td>0</td><td>-7/10</td><td>0</td><td>3/4</td><td>1/2</td><td>1/10</td><td>0</td><td>0</td><td>0</td><td>0</td><td>0</td><td>0</td></tr><tr><td>5/66</td><td>0</td><td>-1/2</td><td>0</td><td>1</td><td>0</td><td>-1</td><td>0</td><td>5/6</td><td>1/2</td><td>1/11</td><td>0</td><td>0</td><td>0</td><td>0</td><td>0</td></tr><tr><td>0</td><td>5/12</td><td>0</td><td>-11/8</td><td>0</td><td>11/6</td><td>0</td><td>-11/8</td><td>0</td><td>11/12</td><td>1/2</td><td>1/12</td><td>0</td><td>0</td><td>0</td><td>0</td></tr><tr><td>-691/2730</td><td>0</td><td>5/3</td><td>0</td><td>-33/10</td><td>0</td><td>22/7</td><td>0</td><td>-11/6</td><td>0</td><td>1</td><td>1/2</td><td>1/13</td><td>0</td><td>0</td><td>0</td></tr><tr><td>0</td><td>-691/420</td><td>0</td><td>65/12</td><td>0</td><td>-143/20</td><td>0</td><td>143/28</td><td>0</td><td>-143/60</td><td>0</td><td>13/12</td><td>1/2</td><td>1/14</td><td>0</td><td>0</td></tr><tr><td>7/6</td><td>0</td><td>-691/90</td><td>0</td><td>91/6</td><td>0</td><td>-143/10</td><td>0</td><td>143/18</td><td>0</td><td>-91/30</td><td>0</td><td>7/6</td><td>1/2</td><td>1/15</td><td>0</td></tr><tr><td>0</td><td>35/4</td><td>0</td><td>-691/24</td><td>0</td><td>455/12</td><td>0</td><td>-429/16</td><td>0</td><td>143/12</td><td>0</td><td>-91/24</td><td>0</td><td>5/4</td><td>1/2</td><td>1/16</td></tr></table>"
      ],
      "text/plain": [
       "<IPython.core.display.HTML object>"
      ]
     },
     "metadata": {},
     "output_type": "display_data"
    },
    {
     "data": {
      "text/html": [
       "<table><tr><td>2</td><td>2</td><td>0</td><td>0</td><td>0</td><td>0</td><td>0</td><td>0</td><td>0</td><td>0</td><td>0</td><td>0</td><td>0</td><td>0</td><td>0</td><td>0</td></tr><tr><td>6</td><td>2</td><td>3</td><td>0</td><td>0</td><td>0</td><td>0</td><td>0</td><td>0</td><td>0</td><td>0</td><td>0</td><td>0</td><td>0</td><td>0</td><td>0</td></tr><tr><td>0</td><td>4</td><td>2</td><td>4</td><td>0</td><td>0</td><td>0</td><td>0</td><td>0</td><td>0</td><td>0</td><td>0</td><td>0</td><td>0</td><td>0</td><td>0</td></tr><tr><td>-30</td><td>0</td><td>3</td><td>2</td><td>5</td><td>0</td><td>0</td><td>0</td><td>0</td><td>0</td><td>0</td><td>0</td><td>0</td><td>0</td><td>0</td><td>0</td></tr><tr><td>0</td><td>-12</td><td>0</td><td>12/5</td><td>2</td><td>6</td><td>0</td><td>0</td><td>0</td><td>0</td><td>0</td><td>0</td><td>0</td><td>0</td><td>0</td><td>0</td></tr><tr><td>42</td><td>0</td><td>-6</td><td>0</td><td>2</td><td>2</td><td>7</td><td>0</td><td>0</td><td>0</td><td>0</td><td>0</td><td>0</td><td>0</td><td>0</td><td>0</td></tr><tr><td>0</td><td>12</td><td>0</td><td>-24/7</td><td>0</td><td>12/7</td><td>2</td><td>8</td><td>0</td><td>0</td><td>0</td><td>0</td><td>0</td><td>0</td><td>0</td><td>0</td></tr><tr><td>-30</td><td>0</td><td>9/2</td><td>0</td><td>-15/7</td><td>0</td><td>3/2</td><td>2</td><td>9</td><td>0</td><td>0</td><td>0</td><td>0</td><td>0</td><td>0</td><td>0</td></tr><tr><td>0</td><td>-20/3</td><td>0</td><td>2</td><td>0</td><td>-10/7</td><td>0</td><td>4/3</td><td>2</td><td>10</td><td>0</td><td>0</td><td>0</td><td>0</td><td>0</td><td>0</td></tr><tr><td>66/5</td><td>0</td><td>-2</td><td>0</td><td>1</td><td>0</td><td>-1</td><td>0</td><td>6/5</td><td>2</td><td>11</td><td>0</td><td>0</td><td>0</td><td>0</td><td>0</td></tr><tr><td>0</td><td>12/5</td><td>0</td><td>-8/11</td><td>0</td><td>6/11</td><td>0</td><td>-8/11</td><td>0</td><td>12/11</td><td>2</td><td>12</td><td>0</td><td>0</td><td>0</td><td>0</td></tr><tr><td>-2730/691</td><td>0</td><td>3/5</td><td>0</td><td>-10/33</td><td>0</td><td>7/22</td><td>0</td><td>-6/11</td><td>0</td><td>1</td><td>2</td><td>13</td><td>0</td><td>0</td><td>0</td></tr><tr><td>0</td><td>-420/691</td><td>0</td><td>12/65</td><td>0</td><td>-20/143</td><td>0</td><td>28/143</td><td>0</td><td>-60/143</td><td>0</td><td>12/13</td><td>2</td><td>14</td><td>0</td><td>0</td></tr><tr><td>6/7</td><td>0</td><td>-90/691</td><td>0</td><td>6/91</td><td>0</td><td>-10/143</td><td>0</td><td>18/143</td><td>0</td><td>-30/91</td><td>0</td><td>6/7</td><td>2</td><td>15</td><td>0</td></tr><tr><td>0</td><td>4/35</td><td>0</td><td>-24/691</td><td>0</td><td>12/455</td><td>0</td><td>-16/429</td><td>0</td><td>12/143</td><td>0</td><td>-24/91</td><td>0</td><td>4/5</td><td>2</td><td>16</td></tr></table>"
      ],
      "text/plain": [
       "<IPython.core.display.HTML object>"
      ]
     },
     "metadata": {},
     "output_type": "display_data"
    }
   ],
   "source": [
    "from IPython.display import HTML, display\n",
    "from sympy import init_printing, Sum\n",
    "from sympy.abc import k, n\n",
    "\n",
    "data, data_inv = [], []\n",
    "for p in range(1, 16):\n",
    "    s = Sum(k**p, (k, 1, n)).doit().expand()\n",
    "    \n",
    "    coeffs = [s.coeff(n, i) for i in range(1, 17)]\n",
    "    coeffs_inv = [s.coeff(n, i) for i in range(1, 17)]\n",
    "    \n",
    "    for i, v in enumerate(coeffs_inv):\n",
    "        coeffs_inv[i] = 0 if v == 0 else v**(-1)\n",
    "        \n",
    "    data.append(coeffs)\n",
    "    data_inv.append(coeffs_inv)\n",
    "\n",
    "display(HTML(\n",
    "   '<table><tr>{}</tr></table>'.format(\n",
    "       '</tr><tr>'.join(\n",
    "           '<td>{}</td>'.format('</td><td>'.join(str(_) for _ in row)) for row in data)\n",
    "       )\n",
    "))\n",
    "\n",
    "display(HTML(\n",
    "   '<table><tr>{}</tr></table>'.format(\n",
    "       '</tr><tr>'.join(\n",
    "           '<td>{}</td>'.format('</td><td>'.join(str(_) for _ in row)) for row in data_inv)\n",
    "       )\n",
    "))"
   ]
  },
  {
   "cell_type": "code",
   "execution_count": null,
   "metadata": {},
   "outputs": [],
   "source": []
  }
 ],
 "metadata": {
  "kernelspec": {
   "display_name": "Python 3",
   "language": "python",
   "name": "python3"
  },
  "language_info": {
   "codemirror_mode": {
    "name": "ipython",
    "version": 3
   },
   "file_extension": ".py",
   "mimetype": "text/x-python",
   "name": "python",
   "nbconvert_exporter": "python",
   "pygments_lexer": "ipython3",
   "version": "3.7.4"
  }
 },
 "nbformat": 4,
 "nbformat_minor": 2
}
